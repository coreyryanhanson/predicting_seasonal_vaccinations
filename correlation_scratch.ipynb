{
 "cells": [
  {
   "cell_type": "code",
   "execution_count": 1,
   "metadata": {},
   "outputs": [
    {
     "name": "stderr",
     "output_type": "stream",
     "text": [
      "/home/corey/anaconda3/lib/python3.7/site-packages/statsmodels/tools/_testing.py:19: FutureWarning: pandas.util.testing is deprecated. Use the functions in the public API at pandas.testing instead.\n",
      "  import pandas.util.testing as tm\n"
     ]
    }
   ],
   "source": [
    "# import external libraries\n",
    "\n",
    "import pandas as pd\n",
    "import numpy as np\n",
    "import matplotlib.pyplot as plt\n",
    "import seaborn as sns\n",
    "\n",
    "import xgboost as xgb\n",
    "from sklearn.linear_model import LogisticRegression\n",
    "from sklearn.neighbors import KNeighborsClassifier\n",
    "from sklearn.ensemble import RandomForestClassifier\n",
    "from sklearn.feature_selection import RFE\n",
    "from sklearn.model_selection import GridSearchCV, RandomizedSearchCV, KFold\n",
    "\n",
    "#Local PY files\n",
    "from cleaning_functions import *\n",
    "from eda import *\n",
    "from random_lumberjacks.src.random_lumberjacks.model.model_classes import *\n",
    "from random_lumberjacks.src.random_lumberjacks.visualization.visualization_functions import *\n",
    "\n",
    "\n",
    "# Configure matplotlib for jupyter.\n",
    "%matplotlib inline"
   ]
  },
  {
   "cell_type": "code",
   "execution_count": 2,
   "metadata": {
    "scrolled": false
   },
   "outputs": [],
   "source": [
    "#Imports the dataframes\n",
    "dffo = pd.read_csv(\"data/submission_format.csv\")\n",
    "dftr = pd.read_csv(\"data/training_set_features.csv\")\n",
    "dfte = pd.read_csv(\"data/test_set_features.csv\")\n",
    "dfla = pd.read_csv(\"data/training_set_labels.csv\")\n",
    "\n",
    "df = pd.merge(dftr, dfla, on=\"respondent_id\")\n",
    "df = df.set_index(\"respondent_id\")"
   ]
  },
  {
   "cell_type": "code",
   "execution_count": 3,
   "metadata": {},
   "outputs": [],
   "source": [
    "#Cleaning steps to do before column names are established.\n",
    "df = initial_cleaning(df)\n",
    "\n",
    "#Lists of columns to be fed into the model processor object and the functions that\n",
    "#manage imputed values for the nans.\n",
    "binary_columns = ['behavioral_antiviral_meds',\n",
    "       'behavioral_avoidance', 'behavioral_face_mask', 'behavioral_wash_hands',\n",
    "       'behavioral_large_gatherings', 'behavioral_outside_home',\n",
    "       'behavioral_touch_face', 'doctor_recc_h1n1', 'doctor_recc_seasonal',\n",
    "       'chronic_med_condition', 'child_under_6_months', 'health_worker',\n",
    "       'health_insurance', 'homeowner']\n",
    "ordinal_columns = ['h1n1_concern', 'h1n1_knowledge', 'opinion_h1n1_vacc_effective', 'opinion_h1n1_risk',\n",
    "       'opinion_h1n1_sick_from_vacc', 'opinion_seas_vacc_effective',\n",
    "       'opinion_seas_risk', 'opinion_seas_sick_from_vacc']\n",
    "continuous_columns = [\"household_adults\", \"household_children\"]\n",
    "\n",
    "#Function to generate a dictionary that manages impute strategies depending on\n",
    "#the type of data.\n",
    "impute_dict = gen_impute_dict(binary_columns, ordinal_columns, continuous_columns)\n",
    "\n",
    "#Cleans the rest of the data and stores the fitted imputer objects into a list for later use.\n",
    "df, imputes = fit_clean_data(df, impute_dict)"
   ]
  },
  {
   "cell_type": "code",
   "execution_count": 6,
   "metadata": {},
   "outputs": [],
   "source": [
    "palette = independant_palette(\"#ee823e\", \"#102ca8\")"
   ]
  },
  {
   "cell_type": "code",
   "execution_count": 63,
   "metadata": {},
   "outputs": [],
   "source": [
    "#Creating column selection dictionaries for the data from lists of column names.\n",
    "\n",
    "#Lists to go in the dictionaries.\n",
    "\n",
    "missing_dummies = extract_column_names(df, \"^missing\")\n",
    "target_col1 = \"h1n1_vaccine\"\n",
    "target_col2 = \"seasonal_vaccine\"\n",
    "target_cols = [target_col1, target_col2]\n",
    "untr = ['household_adults', 'household_children',]\n",
    "nom = df.columns.drop([*untr, *binary_columns, *target_cols, *missing_dummies])\n",
    "\n",
    "#The dicts that come into the arguments.\n",
    "categorical = {\n",
    "    \"nominal_features\":nom, \"standard_dummies\": binary_columns, \"impute_dummies\":missing_dummies\n",
    "}\n",
    "\n",
    "continuous = {\"untransformed\":untr}\n",
    "polynomial = {\"method\":\"eliminate\", \"columns\":[*missing_dummies, *nom.drop(\n",
    "    ['age_group', 'education', 'sex'])]}\n",
    "\n",
    "continuous = {}\n",
    "\n",
    "categorical = {\n",
    "    \"nominal_features\":['age_group', 'income_poverty', 'education', \"race\", \"sex\"],\n",
    "    \"standard_dummies\":['opinion_seas_vacc_effective', 'doctor_recc_seasonal', 'opinion_seas_risk']\n",
    "}\n",
    "polynomial = {\"method\":\"all\", \"columns\":['education', 'sex']}"
   ]
  },
  {
   "cell_type": "code",
   "execution_count": 64,
   "metadata": {},
   "outputs": [
    {
     "name": "stdout",
     "output_type": "stream",
     "text": [
      "Creating Dummies\n",
      "Getting polynomial features of degree 2\n",
      "\n",
      "['age_group_35 - 44 Years age_group_45 - 54 Years', 'age_group_35 - 44 Years age_group_55 - 64 Years', 'age_group_35 - 44 Years age_group_65+ Years', 'age_group_45 - 54 Years age_group_55 - 64 Years', 'age_group_45 - 54 Years age_group_65+ Years', 'age_group_55 - 64 Years age_group_65+ Years', 'income_poverty_Above Poverty income_poverty_Below Poverty', 'income_poverty_Above Poverty income_poverty_unknown', 'income_poverty_Below Poverty income_poverty_unknown', 'education_< 12 Years education_College Graduate', 'education_< 12 Years education_Some College', 'education_College Graduate education_Some College', 'race_Hispanic race_Other or Multiple', 'race_Hispanic race_White', 'race_Other or Multiple race_White']\n",
      "were removed for containing 0 values\n",
      "\n",
      "Skipping class imbalance functions\n",
      "No scaling specified\n",
      "Skipping scaling\n"
     ]
    }
   ],
   "source": [
    "data = DataPreprocessor(df, target_col2, categorical, continuous, polynomial, True, True,random_state=124)\n",
    "data.data_preprocessing(balance_class=False, scale_type=None, poly_degree=2)\n",
    "masked_cols = data.get_X_train().columns.drop(extract_column_names(data.get_X_train(), \"\\^\\d\"))"
   ]
  },
  {
   "cell_type": "code",
   "execution_count": 65,
   "metadata": {},
   "outputs": [
    {
     "name": "stdout",
     "output_type": "stream",
     "text": [
      "Adding ['opinion_seas_vacc_effective^2', 'opinion_seas_vacc_effective doctor_recc_seasonal', 'opinion_seas_vacc_effective opinion_seas_risk', 'opinion_seas_vacc_effective age_group_35 - 44 Years', 'opinion_seas_vacc_effective age_group_45 - 54 Years', 'opinion_seas_vacc_effective age_group_55 - 64 Years', 'opinion_seas_vacc_effective age_group_65+ Years', 'opinion_seas_vacc_effective income_poverty_Above Poverty', 'opinion_seas_vacc_effective income_poverty_Below Poverty', 'opinion_seas_vacc_effective income_poverty_unknown', 'opinion_seas_vacc_effective education_< 12 Years', 'opinion_seas_vacc_effective education_College Graduate', 'opinion_seas_vacc_effective education_Some College', 'opinion_seas_vacc_effective race_Hispanic', 'opinion_seas_vacc_effective race_Other or Multiple', 'opinion_seas_vacc_effective race_White', 'opinion_seas_vacc_effective sex_Male', 'doctor_recc_seasonal^2', 'doctor_recc_seasonal opinion_seas_risk', 'doctor_recc_seasonal age_group_55 - 64 Years', 'doctor_recc_seasonal age_group_65+ Years', 'doctor_recc_seasonal income_poverty_Above Poverty', 'doctor_recc_seasonal education_College Graduate', 'doctor_recc_seasonal race_Other or Multiple', 'doctor_recc_seasonal race_White', 'opinion_seas_risk^2', 'opinion_seas_risk age_group_35 - 44 Years', 'opinion_seas_risk age_group_45 - 54 Years', 'opinion_seas_risk age_group_55 - 64 Years', 'opinion_seas_risk age_group_65+ Years', 'opinion_seas_risk income_poverty_Above Poverty', 'opinion_seas_risk income_poverty_Below Poverty', 'opinion_seas_risk income_poverty_unknown', 'opinion_seas_risk education_< 12 Years', 'opinion_seas_risk education_College Graduate', 'opinion_seas_risk education_Some College', 'opinion_seas_risk race_Hispanic', 'opinion_seas_risk race_Other or Multiple', 'opinion_seas_risk race_White', 'opinion_seas_risk sex_Male', 'age_group_35 - 44 Years^2', 'age_group_35 - 44 Years income_poverty_Above Poverty', 'age_group_35 - 44 Years education_College Graduate', 'age_group_35 - 44 Years race_White', 'age_group_35 - 44 Years sex_Male', 'age_group_45 - 54 Years^2', 'age_group_45 - 54 Years income_poverty_Above Poverty', 'age_group_45 - 54 Years education_College Graduate', 'age_group_45 - 54 Years race_White', 'age_group_45 - 54 Years sex_Male', 'age_group_55 - 64 Years^2', 'age_group_55 - 64 Years income_poverty_Above Poverty', 'age_group_55 - 64 Years education_College Graduate', 'age_group_55 - 64 Years race_White', 'age_group_55 - 64 Years sex_Male', 'age_group_65+ Years^2', 'age_group_65+ Years income_poverty_Above Poverty', 'age_group_65+ Years income_poverty_unknown', 'age_group_65+ Years education_< 12 Years', 'age_group_65+ Years race_White', 'income_poverty_Above Poverty^2', 'income_poverty_Above Poverty education_< 12 Years', 'income_poverty_Above Poverty education_Some College', 'income_poverty_Above Poverty race_Hispanic', 'income_poverty_Above Poverty race_Other or Multiple', 'income_poverty_Above Poverty race_White', 'income_poverty_Above Poverty sex_Male', 'income_poverty_Below Poverty^2', 'income_poverty_Below Poverty education_< 12 Years', 'income_poverty_Below Poverty race_White', 'income_poverty_Below Poverty sex_Male', 'income_poverty_unknown^2', 'income_poverty_unknown education_College Graduate', 'income_poverty_unknown race_White', 'income_poverty_unknown sex_Male', 'education_< 12 Years^2', 'education_< 12 Years race_White', 'education_< 12 Years sex_Male', 'education_College Graduate^2', 'education_College Graduate race_Other or Multiple', 'education_College Graduate race_White', 'education_College Graduate sex_Male', 'education_Some College^2', 'education_Some College race_White', 'education_Some College sex_Male', 'race_Hispanic^2', 'race_Hispanic sex_Male', 'race_Other or Multiple^2', 'race_Other or Multiple sex_Male', 'race_White^2', 'race_White sex_Male', 'sex_Male^2']\n"
     ]
    }
   ],
   "source": [
    "squared_cols = extract_column_names(data.get_X_train(), \"\\^\\d\")\n",
    "masked_cols = data.get_X_train().columns.drop(squared_cols)\n",
    "\n",
    "corr_cols=correlated_columns_by_threshold(data.get_X_train(), masked_cols, .55)\n",
    "poly_corr_cols = np.intersect1d(corr_cols, data.cols_polynomial)\n",
    "data.cols_polynomial.drop([*poly_corr_cols, *squared_cols])\n",
    "to_drop = np.intersect1d(data.cols_polynomial, [*poly_corr_cols, *squared_cols])\n",
    "data.column_drop(to_drop)"
   ]
  },
  {
   "cell_type": "code",
   "execution_count": 66,
   "metadata": {},
   "outputs": [],
   "source": [
    "test_df = data.get_df()[data.get_df().columns.drop(data.cols_initial).union([\"seasonal_vaccine\"])]"
   ]
  },
  {
   "cell_type": "code",
   "execution_count": 89,
   "metadata": {},
   "outputs": [
    {
     "data": {
      "text/plain": [
       "Index(['age_group_65+ Years education_College Graduate',\n",
       "       'age_group_65+ Years sex_Male',\n",
       "       'doctor_recc_seasonal age_group_45 - 54 Years',\n",
       "       'doctor_recc_seasonal education_Some College',\n",
       "       'doctor_recc_seasonal income_poverty_unknown',\n",
       "       'doctor_recc_seasonal sex_Male'],\n",
       "      dtype='object')"
      ]
     },
     "execution_count": 89,
     "metadata": {},
     "output_type": "execute_result"
    }
   ],
   "source": [
    "thresh = df_test_threshhold(test_df.corr().tail().T, \"seasonal_vaccine\", .1)\n",
    "test_df.corr().tail().T.iloc[:,4][thresh].index.drop(\"seasonal_vaccine\")"
   ]
  },
  {
   "cell_type": "code",
   "execution_count": 68,
   "metadata": {},
   "outputs": [
    {
     "data": {
      "text/plain": [
       "age_group_35 - 44 Years        -0.084788\n",
       "age_group_45 - 54 Years        -0.063682\n",
       "age_group_55 - 64 Years         0.046918\n",
       "age_group_65+ Years             0.244830\n",
       "doctor_recc_seasonal            0.360696\n",
       "education_< 12 Years           -0.040238\n",
       "education_College Graduate      0.053002\n",
       "education_Some College         -0.016401\n",
       "income_poverty_Above Poverty    0.021327\n",
       "income_poverty_Below Poverty   -0.069194\n",
       "income_poverty_unknown         -0.015425\n",
       "opinion_seas_risk               0.386916\n",
       "opinion_seas_vacc_effective     0.358869\n",
       "race_Hispanic                  -0.066995\n",
       "race_Other or Multiple         -0.023186\n",
       "race_White                      0.100314\n",
       "seasonal_vaccine                1.000000\n",
       "sex_Male                       -0.077091\n",
       "Name: seasonal_vaccine, dtype: float64"
      ]
     },
     "execution_count": 68,
     "metadata": {},
     "output_type": "execute_result"
    }
   ],
   "source": [
    "data.get_df()[data.cols_initial.union([\"seasonal_vaccine\"])].corr().tail().T.iloc[:,3]"
   ]
  }
 ],
 "metadata": {
  "kernelspec": {
   "display_name": "Python 3",
   "language": "python",
   "name": "python3"
  },
  "language_info": {
   "codemirror_mode": {
    "name": "ipython",
    "version": 3
   },
   "file_extension": ".py",
   "mimetype": "text/x-python",
   "name": "python",
   "nbconvert_exporter": "python",
   "pygments_lexer": "ipython3",
   "version": "3.7.4"
  },
  "toc": {
   "base_numbering": 1,
   "nav_menu": {},
   "number_sections": true,
   "sideBar": true,
   "skip_h1_title": false,
   "title_cell": "Table of Contents",
   "title_sidebar": "Contents",
   "toc_cell": false,
   "toc_position": {},
   "toc_section_display": true,
   "toc_window_display": false
  },
  "varInspector": {
   "cols": {
    "lenName": 16,
    "lenType": 16,
    "lenVar": 40
   },
   "kernels_config": {
    "python": {
     "delete_cmd_postfix": "",
     "delete_cmd_prefix": "del ",
     "library": "var_list.py",
     "varRefreshCmd": "print(var_dic_list())"
    },
    "r": {
     "delete_cmd_postfix": ") ",
     "delete_cmd_prefix": "rm(",
     "library": "var_list.r",
     "varRefreshCmd": "cat(var_dic_list()) "
    }
   },
   "types_to_exclude": [
    "module",
    "function",
    "builtin_function_or_method",
    "instance",
    "_Feature"
   ],
   "window_display": false
  }
 },
 "nbformat": 4,
 "nbformat_minor": 2
}
